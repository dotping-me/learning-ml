{
 "cells": [
  {
   "cell_type": "markdown",
   "id": "9a44e52f",
   "metadata": {},
   "source": [
    "# Model Definitions\n",
    "Here is where the model is being trained and tested. It will then be exported to be served through an API as a service!"
   ]
  },
  {
   "cell_type": "code",
   "execution_count": 15,
   "id": "ba68370a",
   "metadata": {},
   "outputs": [],
   "source": [
    "# Basic setup\n",
    "from os import path, getcwd\n",
    "DIR_PATH = getcwd()\n",
    "\n",
    "import sys\n",
    "sys.path.append(path.join(DIR_PATH, \"../\"))\n",
    "DATASET_PATH = path.join(DIR_PATH, \"../data/news_labelled.csv\")"
   ]
  },
  {
   "cell_type": "markdown",
   "id": "f3533c2d",
   "metadata": {},
   "source": [
    "### Step 1: Loading the Dataset\n",
    "After generating the dataset file with `dataset_builder.py` utility script, labels (`'positive'`, `'negative'` and `'neutral'`) have been **manually** added to act as training data and a reference for the model."
   ]
  },
  {
   "cell_type": "code",
   "execution_count": 16,
   "id": "a780c788",
   "metadata": {},
   "outputs": [
    {
     "name": "stdout",
     "output_type": "stream",
     "text": [
      "                                             content     label\n",
      "0  China is preparing for one of the most anticip...  negative\n",
      "1  Do you have a package coming your way from ove...  negative\n",
      "2  China just hosted the first-ever World Humanoi...  positive\n",
      "3  Wales knew that the opening game against Scotl...  negative\n",
      "4  Kate Cross has been left out of England's squa...   neutral\n"
     ]
    }
   ],
   "source": [
    "from pandas import read_csv\n",
    "df = read_csv(DATASET_PATH)\n",
    "print(df.head())"
   ]
  },
  {
   "cell_type": "markdown",
   "id": "d1858c07-a0d3-4a06-ac4e-bef129820929",
   "metadata": {},
   "source": [
    "### Step 2: Apply Preprocessing\n",
    "Cleaning the data to remove ambiguities and risk of errors."
   ]
  },
  {
   "cell_type": "code",
   "execution_count": 17,
   "id": "57062660-1f8a-49f5-9096-24365e0ec142",
   "metadata": {},
   "outputs": [],
   "source": [
    "from utils.preprocessing import clean_text\n",
    "df[\"processed\"] = df[\"content\"].astype(str).apply(clean_text)"
   ]
  },
  {
   "cell_type": "markdown",
   "id": "5aaaab11-b022-49f2-a578-068e106a31d3",
   "metadata": {},
   "source": [
    "### Step 3: Convert Text to Numerical values\n",
    "This makes the data comprehensible to the system, allowing it to extract patterns. This will be achieved by using `TfidVectorizer`."
   ]
  },
  {
   "cell_type": "code",
   "execution_count": 18,
   "id": "088a0325-1622-44bd-aceb-2a83fd8874b4",
   "metadata": {},
   "outputs": [],
   "source": [
    "from sklearn.feature_extraction.text import TfidfVectorizer\n",
    "vectorizer = TfidfVectorizer()\n",
    "\n",
    "# Maps data onto labels\n",
    "X = vectorizer.fit_transform(df[\"processed\"])\n",
    "y = df[\"label\"]"
   ]
  },
  {
   "cell_type": "markdown",
   "id": "1ecabb3e-7eda-4ab1-b26a-9073edfdfa3b",
   "metadata": {},
   "source": [
    "### Step 4: Train/Test Split\n",
    "Splitting data to find patterns."
   ]
  }
 ],
 "metadata": {
  "kernelspec": {
   "display_name": "Python 3 (ipykernel)",
   "language": "python",
   "name": "python3"
  },
  "language_info": {
   "codemirror_mode": {
    "name": "ipython",
    "version": 3
   },
   "file_extension": ".py",
   "mimetype": "text/x-python",
   "name": "python",
   "nbconvert_exporter": "python",
   "pygments_lexer": "ipython3",
   "version": "3.11.3"
  }
 },
 "nbformat": 4,
 "nbformat_minor": 5
}
